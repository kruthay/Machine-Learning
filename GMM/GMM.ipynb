{
 "cells": [
  {
   "cell_type": "code",
   "execution_count": 1,
   "id": "7fe764b8",
   "metadata": {},
   "outputs": [],
   "source": [
    "import numpy as np\n",
    "from sklearn.mixture import GaussianMixture\n",
    "np.set_printoptions(precision=5, suppress=True)\n",
    "from scipy.stats import norm\n",
    "import scipy.stats as stats\n",
    "import matplotlib.pyplot as plt\n"
   ]
  },
  {
   "cell_type": "code",
   "execution_count": 2,
   "id": "e1d11f29",
   "metadata": {},
   "outputs": [],
   "source": [
    "data = np.loadtxt(\"homework5-package/gmm.txt\")\n",
    "X = data.reshape(-1,1)"
   ]
  },
  {
   "cell_type": "code",
   "execution_count": 3,
   "id": "0d4e0ba2",
   "metadata": {},
   "outputs": [],
   "source": [
    "def Guasian(mean, std, x): \n",
    "    den = ((44/7)**0.5) * std\n",
    "    value = (x-mean)/ std\n",
    "    value = -0.5*(value**2)\n",
    "    num = np.exp(value)\n",
    "    return num/den"
   ]
  },
  {
   "cell_type": "markdown",
   "id": "ce44a248",
   "metadata": {},
   "source": [
    "# Initialisation"
   ]
  },
  {
   "cell_type": "code",
   "execution_count": null,
   "id": "98fbb570",
   "metadata": {},
   "outputs": [],
   "source": []
  },
  {
   "cell_type": "code",
   "execution_count": 4,
   "id": "51f1e40c",
   "metadata": {},
   "outputs": [],
   "source": [
    "def E_Step(mean, std, pie, q, X = X):\n",
    "    n = X.shape[0]\n",
    "    K = 2\n",
    "    for k in range(K):\n",
    "        for i in range(n):\n",
    "            q[k][i] = pie[k]*(Guasian(mean[k],std[k],X[i]))\n",
    "    sumq = np.sum(q,axis=0)\n",
    "    q = q /sumq\n",
    "    return q"
   ]
  },
  {
   "cell_type": "code",
   "execution_count": 5,
   "id": "00cf29eb",
   "metadata": {},
   "outputs": [],
   "source": [
    "def M_Step(mean, std, pie, q, X = X):\n",
    "    n = X.shape[0]\n",
    "    K = 2\n",
    "    sumqi = np.sum(q,axis=1)\n",
    "    for k in range(K):\n",
    "        meanTemp = 0\n",
    "        stdTemp = 0\n",
    "        for i in range(n):\n",
    "            meanTemp += q[k][i] * data[i]       \n",
    "            stdTemp += q[k][i] * (data[i] - mean[k])**2\n",
    "        mean[k] = meanTemp/sumqi[k]\n",
    "        std[k] = np.sqrt(stdTemp/sumqi[k])\n",
    "    pie = sumqi/q.sum()\n",
    "    return mean, std, pie"
   ]
  },
  {
   "cell_type": "code",
   "execution_count": 6,
   "id": "1d79fd1b",
   "metadata": {},
   "outputs": [],
   "source": [
    "def logLikliehood(mean, std, pie, q, X = X):\n",
    "    n = X.shape[0]\n",
    "    lik = np.zeros([2,n])\n",
    "    for k in range(K):\n",
    "        for i in range(n):\n",
    "            lik[k][i] = pie[k]*(Guasian(mean[k],std[k],X[i]))\n",
    "    loglik = np.log(np.sum(lik,axis = 0))\n",
    "    return np.sum(loglik)"
   ]
  },
  {
   "cell_type": "code",
   "execution_count": 7,
   "id": "4ca8265f",
   "metadata": {},
   "outputs": [],
   "source": [
    "def GMM(mean, std, pie, X, iterations):\n",
    "    n = X.shape[0]\n",
    "    q = np.zeros([2,n])\n",
    "    Logs = []\n",
    "    for i in range(iterations):\n",
    "        q = E_Step(mean, std, pie, q, X)\n",
    "        mean,std, pie = M_Step(mean, std, pie, q, X)\n",
    "        Logs.append(logLikliehood(mean, std, pie, X))\n",
    "    return q, [mean, std, pie], Logs"
   ]
  },
  {
   "cell_type": "code",
   "execution_count": 8,
   "id": "90f6bc05",
   "metadata": {},
   "outputs": [],
   "source": [
    "K = 2\n",
    "pie = [1/K,1/K]\n",
    "mean = [data[::2].mean(), data[1::2].mean()]\n",
    "std = [data[::2].std(), data[1::2].std()]\n",
    "q, [mean, std, pie], Logs = GMM(mean,std,pie,X,100)"
   ]
  },
  {
   "cell_type": "code",
   "execution_count": 9,
   "id": "fbd27ed7",
   "metadata": {},
   "outputs": [
    {
     "data": {
      "text/plain": [
       "[-432.1648770739318,\n",
       " -432.11259334682734,\n",
       " -432.07219668408527,\n",
       " -432.03609103618925,\n",
       " -431.99927201148506,\n",
       " -431.9582222807643,\n",
       " -431.91033360379197,\n",
       " -431.8536633234289,\n",
       " -431.78691197486364,\n",
       " -431.7095374942904,\n",
       " -431.6219206032551,\n",
       " -431.52548478185463,\n",
       " -431.42267583532646,\n",
       " -431.3167401500831,\n",
       " -431.2113098359896,\n",
       " -431.10988343632755,\n",
       " -431.01534224182353,\n",
       " -430.9296334865702,\n",
       " -430.8536855951938,\n",
       " -430.7875338873228,\n",
       " -430.7305726737561,\n",
       " -430.6818350517093,\n",
       " -430.6402274674417,\n",
       " -430.604687265224,\n",
       " -430.57426549092105,\n",
       " -430.54815472739085,\n",
       " -430.5256847280116,\n",
       " -430.50630373660783,\n",
       " -430.4895565191938,\n",
       " -430.4750644657698,\n",
       " -430.4625095370271,\n",
       " -430.45162202332926,\n",
       " -430.4421714087157,\n",
       " -430.43395953698183,\n",
       " -430.4268154082914,\n",
       " -430.4205911137969,\n",
       " -430.4151585706921,\n",
       " -430.4104068336659,\n",
       " -430.4062398352091,\n",
       " -430.4025744565471,\n",
       " -430.39933886221417,\n",
       " -430.3964710510795,\n",
       " -430.393917589348,\n",
       " -430.39163249938423,\n",
       " -430.38957628380297,\n",
       " -430.3877150681307,\n",
       " -430.3860198480805,\n",
       " -430.38446582949257,\n",
       " -430.3830318505135,\n",
       " -430.3816998767901,\n",
       " -430.38045456143664,\n",
       " -430.3792828623695,\n",
       " -430.37817371033776,\n",
       " -430.37711772163607,\n",
       " -430.3761069500845,\n",
       " -430.37513467341387,\n",
       " -430.37419520970434,\n",
       " -430.3732837599948,\n",
       " -430.372396273616,\n",
       " -430.3715293331957,\n",
       " -430.37068005664906,\n",
       " -430.369846013793,\n",
       " -430.36902515552333,\n",
       " -430.36821575375586,\n",
       " -430.36741635057166,\n",
       " -430.36662571521504,\n",
       " -430.36584280777925,\n",
       " -430.3650667485766,\n",
       " -430.36429679233305,\n",
       " -430.3635323064691,\n",
       " -430.3627727528391,\n",
       " -430.3620176723917,\n",
       " -430.3612666722944,\n",
       " -430.36051941513693,\n",
       " -430.3597756098817,\n",
       " -430.35903500428606,\n",
       " -430.3582973785596,\n",
       " -430.3575625400589,\n",
       " -430.35683031885196,\n",
       " -430.3561005640117,\n",
       " -430.35537314051993,\n",
       " -430.35464792668256,\n",
       " -430.35392481197164,\n",
       " -430.3532036952248,\n",
       " -430.3524844831433,\n",
       " -430.35176708903896,\n",
       " -430.3510514317888,\n",
       " -430.3503374349638,\n",
       " -430.34962502610165,\n",
       " -430.34891413610023,\n",
       " -430.34820469871147,\n",
       " -430.3474966501192,\n",
       " -430.34678992858596,\n",
       " -430.3460844741588,\n",
       " -430.34538022842173,\n",
       " -430.34467713429035,\n",
       " -430.3439751358379,\n",
       " -430.3432741781504,\n",
       " -430.34257420720434,\n",
       " -430.3418751697634]"
      ]
     },
     "execution_count": 9,
     "metadata": {},
     "output_type": "execute_result"
    }
   ],
   "source": [
    "Logs"
   ]
  },
  {
   "cell_type": "code",
   "execution_count": 10,
   "id": "d13650e4",
   "metadata": {},
   "outputs": [
    {
     "data": {
      "text/plain": [
       "([5.2782777938554215, 7.418269541590678],\n",
       " [2.037027488561656, 1.6002470649583251],\n",
       " array([0.44835, 0.55165]))"
      ]
     },
     "execution_count": 10,
     "metadata": {},
     "output_type": "execute_result"
    }
   ],
   "source": [
    "mean,std,pie"
   ]
  },
  {
   "cell_type": "code",
   "execution_count": 11,
   "id": "d2687d7e",
   "metadata": {},
   "outputs": [
    {
     "data": {
      "text/plain": [
       "(66, 134)"
      ]
     },
     "execution_count": 11,
     "metadata": {},
     "output_type": "execute_result"
    }
   ],
   "source": [
    "a = np.argmax(q,axis=0)\n",
    "a[a == 0].shape[0], a[a == 1].shape[0]"
   ]
  },
  {
   "cell_type": "code",
   "execution_count": 12,
   "id": "bf39ac3a",
   "metadata": {},
   "outputs": [
    {
     "data": {
      "text/plain": [
       "array([0, 0, 1, 1, 1, 1, 1, 0, 0, 1, 1, 1, 1, 1, 1, 0, 1, 0, 1, 0, 1, 1,\n",
       "       1, 0, 1, 0, 1, 1, 0, 1, 0, 0, 1, 1, 1, 0, 0, 1, 0, 1, 1, 1, 1, 1,\n",
       "       1, 0, 1, 1, 1, 1, 1, 1, 0, 1, 1, 1, 0, 0, 1, 0, 1, 0, 1, 1, 1, 1,\n",
       "       1, 1, 1, 0, 0, 1, 0, 0, 1, 1, 1, 0, 1, 1, 1, 1, 0, 1, 1, 1, 1, 0,\n",
       "       1, 1, 1, 1, 1, 0, 1, 1, 0, 1, 0, 0, 1, 0, 1, 0, 0, 1, 1, 1, 0, 1,\n",
       "       1, 0, 1, 1, 0, 1, 0, 1, 0, 0, 1, 1, 1, 1, 1, 1, 1, 1, 1, 1, 1, 1,\n",
       "       1, 1, 0, 1, 1, 1, 1, 1, 1, 1, 0, 0, 1, 0, 0, 1, 1, 1, 0, 1, 0, 0,\n",
       "       1, 1, 1, 1, 1, 1, 1, 0, 1, 1, 1, 1, 1, 0, 0, 1, 0, 0, 1, 1, 0, 0,\n",
       "       0, 1, 1, 0, 0, 1, 1, 0, 0, 1, 1, 0, 1, 1, 1, 0, 0, 1, 1, 1, 0, 0,\n",
       "       1, 1])"
      ]
     },
     "execution_count": 12,
     "metadata": {},
     "output_type": "execute_result"
    }
   ],
   "source": [
    "a"
   ]
  },
  {
   "cell_type": "code",
   "execution_count": 13,
   "id": "21606812",
   "metadata": {},
   "outputs": [
    {
     "data": {
      "text/plain": [
       "[<matplotlib.lines.Line2D at 0x141491700>]"
      ]
     },
     "execution_count": 13,
     "metadata": {},
     "output_type": "execute_result"
    },
    {
     "data": {
      "image/png": "[encoded data removed]",
      "text/plain": [
       "<Figure size 640x480 with 1 Axes>"
      ]
     },
     "metadata": {},
     "output_type": "display_data"
    }
   ],
   "source": [
    "plt.plot(Logs,range(100))"
   ]
  },
  {
   "cell_type": "code",
   "execution_count": 14,
   "id": "c403d3f8",
   "metadata": {},
   "outputs": [],
   "source": [
    "from sklearn.mixture import GaussianMixture\n",
    "gm = GaussianMixture()"
   ]
  },
  {
   "cell_type": "code",
   "execution_count": 15,
   "id": "5630267d",
   "metadata": {},
   "outputs": [],
   "source": [
    "mean2 = [100, 200]\n",
    "std2 = [10, 20]\n",
    "pie2 = [0.5,0.5]\n",
    "q2, [mean2, std2, pie2], Logs = GMM(mean2,std2,pie2,X,100)"
   ]
  },
  {
   "cell_type": "code",
   "execution_count": 16,
   "id": "257e6316",
   "metadata": {},
   "outputs": [
    {
     "data": {
      "text/plain": [
       "([6.8272073694553335, 2.621707547059529],\n",
       " [1.789209694320291, 0.9021468239542023],\n",
       " array([0.9124, 0.0876]))"
      ]
     },
     "execution_count": 16,
     "metadata": {},
     "output_type": "execute_result"
    }
   ],
   "source": [
    "mean2, std2, pie2"
   ]
  },
  {
   "cell_type": "code",
   "execution_count": 17,
   "id": "7af0bd68",
   "metadata": {},
   "outputs": [
    {
     "data": {
      "text/plain": [
       "(182, 18)"
      ]
     },
     "execution_count": 17,
     "metadata": {},
     "output_type": "execute_result"
    }
   ],
   "source": [
    "a = np.argmax(q2,axis=0)\n",
    "a[a == 0].shape[0], a[a == 1].shape[0]"
   ]
  },
  {
   "cell_type": "code",
   "execution_count": 18,
   "id": "8abbc8e8",
   "metadata": {},
   "outputs": [],
   "source": [
    "mean3 = [50, 60]\n",
    "std3 = [10, 20]\n",
    "pie3 = [0.5,0.5]\n",
    "q3, [mean3, std3, pie3], Logs = GMM(mean3,std3,pie3,X,100)"
   ]
  },
  {
   "cell_type": "code",
   "execution_count": 19,
   "id": "34a6abbb",
   "metadata": {},
   "outputs": [
    {
     "data": {
      "text/plain": [
       "([2.6210488557196863, 6.826960705308252],\n",
       " [0.9018036687814783, 1.7893927228347961],\n",
       " array([0.08754, 0.91246]))"
      ]
     },
     "execution_count": 19,
     "metadata": {},
     "output_type": "execute_result"
    }
   ],
   "source": [
    "mean3, std3, pie3"
   ]
  },
  {
   "cell_type": "code",
   "execution_count": 20,
   "id": "9b187f4c",
   "metadata": {},
   "outputs": [
    {
     "data": {
      "text/plain": [
       "(18, 182)"
      ]
     },
     "execution_count": 20,
     "metadata": {},
     "output_type": "execute_result"
    }
   ],
   "source": [
    "a = np.argmax(q3,axis=0)\n",
    "a[a == 0].shape[0], a[a == 1].shape[0]"
   ]
  },
  {
   "cell_type": "code",
   "execution_count": 23,
   "id": "8fa75f3e",
   "metadata": {},
   "outputs": [],
   "source": [
    "K = 2\n",
    "pie = [1/K,1/K]\n",
    "mean = [data[::2].mean(), data[1::2].mean()]\n",
    "std = [data[::2].std(), data[1::2].std()]\n",
    "q, [mean, std, pie], Logs = GMM(mean,std,pie,X,1000)"
   ]
  },
  {
   "cell_type": "code",
   "execution_count": 24,
   "id": "0088802e",
   "metadata": {},
   "outputs": [
    {
     "data": {
      "text/plain": [
       "(18, 182)"
      ]
     },
     "execution_count": 24,
     "metadata": {},
     "output_type": "execute_result"
    }
   ],
   "source": [
    "mean,std,pie\n",
    "a = np.argmax(q,axis=0)\n",
    "a[a == 0].shape[0], a[a == 1].shape[0]"
   ]
  },
  {
   "cell_type": "code",
   "execution_count": null,
   "id": "1e76d017",
   "metadata": {},
   "outputs": [],
   "source": []
  }
 ],
 "metadata": {
  "kernelspec": {
   "display_name": "Python 3 (ipykernel)",
   "language": "python",
   "name": "python3"
  },
  "language_info": {
   "codemirror_mode": {
    "name": "ipython",
    "version": 3
   },
   "file_extension": ".py",
   "mimetype": "text/x-python",
   "name": "python",
   "nbconvert_exporter": "python",
   "pygments_lexer": "ipython3",
   "version": "3.9.6"
  }
 },
 "nbformat": 4,
 "nbformat_minor": 5
}
