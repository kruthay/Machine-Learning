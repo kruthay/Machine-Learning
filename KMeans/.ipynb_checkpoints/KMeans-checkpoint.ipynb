{
 "cells": [
  {
   "cell_type": "code",
   "execution_count": 1,
   "id": "65a0d3fc",
   "metadata": {},
   "outputs": [],
   "source": [
    "import numpy as np\n",
    "import pandas as pd\n",
    "import matplotlib.pyplot as plt\n",
    "import seaborn as sns\n",
    "import warnings\n",
    "warnings.filterwarnings('ignore')"
   ]
  },
  {
   "cell_type": "code",
   "execution_count": 2,
   "id": "9152ca52",
   "metadata": {},
   "outputs": [
    {
     "name": "stdout",
     "output_type": "stream",
     "text": [
      "       A    B    C    D  class\n",
      "0    5.7  4.4  1.5  0.4     -1\n",
      "1    5.5  4.2  1.4  0.2     -1\n",
      "2    5.2  4.1  1.5  0.1     -1\n",
      "3    5.8  4.0  1.2  0.2     -1\n",
      "4    5.4  3.9  1.7  0.4     -1\n",
      "..   ...  ...  ...  ...    ...\n",
      "145  4.5  2.3  1.3  0.3     -1\n",
      "146  6.0  2.2  5.0  1.5     -1\n",
      "147  6.2  2.2  4.5  1.5     -1\n",
      "148  6.0  2.2  4.0  1.0     -1\n",
      "149  5.0  2.0  3.5  1.0     -1\n",
      "\n",
      "[150 rows x 5 columns]\n"
     ]
    }
   ],
   "source": [
    "col=['A', 'B', 'C', 'D']\n",
    "d = np.loadtxt('1649181792_01407_1604554690_4994035_1601384279_9602122_iris_new_data.txt', delimiter=' ' )\n",
    "data = pd.DataFrame(d, columns = col)\n",
    "data['class'] = -1\n",
    "print(data)"
   ]
  },
  {
   "cell_type": "code",
   "execution_count": 3,
   "id": "f6527e14",
   "metadata": {},
   "outputs": [],
   "source": [
    "X = data.to_numpy()"
   ]
  },
  {
   "cell_type": "code",
   "execution_count": 6,
   "id": "912c2405",
   "metadata": {},
   "outputs": [],
   "source": [
    "def KMean(data, k):\n",
    "    centroids = []\n",
    "    for i in range(k):\n",
    "        centroids.append(data[i*49,0:-1])\n",
    "    for iteration in range(200):\n",
    "        for di in range(0, data.shape[0]):\n",
    "            dataPoint = data[di,0:-1]\n",
    "            mini = 1000000\n",
    "            minDisIndex = -1\n",
    "            for ci in range(k):\n",
    "                dis = np.linalg.norm(centroids[ci] - dataPoint)\n",
    "                if mini > dis:\n",
    "                    mini = dis\n",
    "                    minDisIndex = ci\n",
    "            print(minDisIndex)\n",
    "        \n",
    "            data[di,-1] = minDisIndex\n",
    "        print(data)\n",
    "        for classKey in classes:\n",
    "            classData = classes[classKey]\n",
    "            NewCentroid = np.mean(classData, axis = 0)\n",
    "            centroids[classKey] = NewCentroid \n",
    "            \n",
    "        isFine = True\n",
    "        \n",
    "        for centroid in oldCentroid:\n",
    "            oldCent = oldCentroid[centroid]\n",
    "            curr = centroids[centroid]\n",
    "            error = np.sum((curr - oldCent)/oldCent * 100)\n",
    "            if error > 0.001 or error < -0.001:\n",
    "                isFine = False\n",
    "        if isFine:\n",
    "            print(iteration)\n",
    "            break\n",
    "            \n",
    "    return centroids, classes"
   ]
  },
  {
   "cell_type": "code",
   "execution_count": 7,
   "id": "f70b05b5",
   "metadata": {},
   "outputs": [
    {
     "name": "stdout",
     "output_type": "stream",
     "text": [
      "13677.626794258373 39.44 [5.7 4.4 1.5 0.4]\n",
      "9737.037037037036 74.66666666666667 [6.4 3.2 4.5 1.5]\n",
      "17874.044218598647 121.5945945945946 [6.4 2.9 4.3 1.3]\n",
      "88.89452332657201 74.5 39.44\n",
      "nan nan 74.66666666666667\n",
      "nan nan 121.5945945945946\n",
      "0.0 74.5 74.5\n",
      "nan nan nan\n",
      "nan nan nan\n",
      "2\n"
     ]
    }
   ],
   "source": [
    "k = 3\n",
    "centroids, cluster = KMean(X, k)"
   ]
  },
  {
   "cell_type": "code",
   "execution_count": null,
   "id": "63efead3",
   "metadata": {},
   "outputs": [],
   "source": [
    "file = open(\"Out.txt\", \"w\")\n",
    "\n",
    "for dataPoint in X: \n",
    "        mini = 1000000\n",
    "        minDisIndex = -1\n",
    "        for centroid in centroids:\n",
    "            dis = Distance2Point(dataPoint, centroids[centroid])\n",
    "            if mini > dis:\n",
    "                mini = dis\n",
    "                minDisIndex = centroid\n",
    "        file.write(str(int(minDisIndex)) + \"\\n\")\n",
    "file.close()"
   ]
  },
  {
   "cell_type": "code",
   "execution_count": null,
   "id": "49c8bffa",
   "metadata": {},
   "outputs": [],
   "source": []
  },
  {
   "cell_type": "code",
   "execution_count": null,
   "id": "13584e19",
   "metadata": {},
   "outputs": [],
   "source": []
  },
  {
   "cell_type": "code",
   "execution_count": null,
   "id": "b6542090",
   "metadata": {},
   "outputs": [],
   "source": []
  }
 ],
 "metadata": {
  "kernelspec": {
   "display_name": "Python 3 (ipykernel)",
   "language": "python",
   "name": "python3"
  },
  "language_info": {
   "codemirror_mode": {
    "name": "ipython",
    "version": 3
   },
   "file_extension": ".py",
   "mimetype": "text/x-python",
   "name": "python",
   "nbconvert_exporter": "python",
   "pygments_lexer": "ipython3",
   "version": "3.9.10"
  }
 },
 "nbformat": 4,
 "nbformat_minor": 5
}
