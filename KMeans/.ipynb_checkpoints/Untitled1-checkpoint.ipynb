{
 "cells": [
  {
   "cell_type": "code",
   "execution_count": 6,
   "id": "32d728b9",
   "metadata": {},
   "outputs": [],
   "source": [
    "import numpy as np\n",
    "import pandas as pd\n",
    "import matplotlib.pyplot as plt\n",
    "import seaborn as sns\n",
    "import sklearn\n",
    "from sklearn import cluster\n",
    "from sklearn import preprocessing\n",
    "from sklearn.manifold import TSNE\n",
    "from sklearn.metrics import silhouette_score\n",
    "import random\n",
    "from sklearn.cluster import KMeans"
   ]
  },
  {
   "cell_type": "code",
   "execution_count": 4,
   "id": "080469df",
   "metadata": {},
   "outputs": [],
   "source": [
    "d = np.loadtxt('test.txt', delimiter=',' )\n",
    "data = preprocessing.normalize(d)\n",
    "data_em = TSNE(n_components=2, learning_rate='auto',init='random').fit_transform(data)"
   ]
  },
  {
   "cell_type": "code",
   "execution_count": 7,
   "id": "d0bbbcbb",
   "metadata": {},
   "outputs": [],
   "source": [
    "kmeans = KMeans(n_clusters=10, init='k-means++', n_init=10, max_iter=300).fit(data_em)"
   ]
  },
  {
   "cell_type": "code",
   "execution_count": 8,
   "id": "20ea661e",
   "metadata": {},
   "outputs": [],
   "source": [
    "pred = kmeans.predict(data_em)"
   ]
  },
  {
   "cell_type": "code",
   "execution_count": 9,
   "id": "00ef6fc3",
   "metadata": {},
   "outputs": [],
   "source": [
    "si = silhouette_score(data_em,pred)"
   ]
  },
  {
   "cell_type": "code",
   "execution_count": 10,
   "id": "bafa5540",
   "metadata": {},
   "outputs": [
    {
     "name": "stdout",
     "output_type": "stream",
     "text": [
      "0.46418753\n"
     ]
    }
   ],
   "source": [
    "print(si)"
   ]
  },
  {
   "cell_type": "code",
   "execution_count": null,
   "id": "1142c8c7",
   "metadata": {},
   "outputs": [],
   "source": []
  }
 ],
 "metadata": {
  "kernelspec": {
   "display_name": "Python 3 (ipykernel)",
   "language": "python",
   "name": "python3"
  },
  "language_info": {
   "codemirror_mode": {
    "name": "ipython",
    "version": 3
   },
   "file_extension": ".py",
   "mimetype": "text/x-python",
   "name": "python",
   "nbconvert_exporter": "python",
   "pygments_lexer": "ipython3",
   "version": "3.9.10"
  }
 },
 "nbformat": 4,
 "nbformat_minor": 5
}
