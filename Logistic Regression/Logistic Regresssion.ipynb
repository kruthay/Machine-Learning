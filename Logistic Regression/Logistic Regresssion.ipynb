{
 "cells": [
  {
   "cell_type": "code",
   "execution_count": 33,
   "id": "6af0680f",
   "metadata": {},
   "outputs": [],
   "source": [
    "import pandas as pd\n",
    "import numpy as np\n",
    "import sys\n",
    "np.set_printoptions(precision=3)"
   ]
  },
  {
   "cell_type": "code",
   "execution_count": 34,
   "id": "df98b598",
   "metadata": {},
   "outputs": [],
   "source": [
    "trainData = pd.read_csv(\"1644871288_9762487_cleveland-train.csv\")"
   ]
  },
  {
   "cell_type": "code",
   "execution_count": 35,
   "id": "aafd3bca",
   "metadata": {},
   "outputs": [
    {
     "name": "stdout",
     "output_type": "stream",
     "text": [
      "     age  sex  cp  trestbps  chol  fbs  restecg  thalach  exang  oldpeak  \\\n",
      "0     67    1   4       120   229    0        2      129      1      2.6   \n",
      "1     37    1   3       130   250    0        0      187      0      3.5   \n",
      "2     56    1   2       120   236    0        0      178      0      0.8   \n",
      "3     57    0   4       120   354    0        0      163      1      0.6   \n",
      "4     63    1   4       130   254    0        2      147      0      1.4   \n",
      "..   ...  ...  ..       ...   ...  ...      ...      ...    ...      ...   \n",
      "147   41    1   2       120   157    0        0      182      0      0.0   \n",
      "148   59    1   4       164   176    1        2       90      0      1.0   \n",
      "149   68    1   4       144   193    1        0      141      0      3.4   \n",
      "150   57    1   4       130   131    0        0      115      1      1.2   \n",
      "151   57    0   2       130   236    0        2      174      0      0.0   \n",
      "\n",
      "     slope  ca  thal  heartdisease::category|-1|1  \n",
      "0        2   2     7                            1  \n",
      "1        3   0     3                           -1  \n",
      "2        1   0     3                           -1  \n",
      "3        1   0     3                           -1  \n",
      "4        2   1     7                            1  \n",
      "..     ...  ..   ...                          ...  \n",
      "147      1   0     3                           -1  \n",
      "148      2   2     6                            1  \n",
      "149      2   2     7                            1  \n",
      "150      2   1     7                            1  \n",
      "151      2   1     3                            1  \n",
      "\n",
      "[152 rows x 14 columns]\n"
     ]
    }
   ],
   "source": [
    "print(trainData)"
   ]
  },
  {
   "cell_type": "code",
   "execution_count": 36,
   "id": "c3d0e638",
   "metadata": {},
   "outputs": [
    {
     "data": {
      "text/plain": [
       "array(['age', 'sex', 'cp', 'trestbps', 'chol', 'fbs', 'restecg',\n",
       "       'thalach', 'exang', 'oldpeak', 'slope', 'ca', 'thal',\n",
       "       'heartdisease::category|-1|1'], dtype=object)"
      ]
     },
     "execution_count": 36,
     "metadata": {},
     "output_type": "execute_result"
    }
   ],
   "source": [
    "trainData.columns.values"
   ]
  },
  {
   "cell_type": "code",
   "execution_count": 37,
   "id": "a2cef6b8",
   "metadata": {},
   "outputs": [],
   "source": [
    "Y = trainData['heartdisease::category|-1|1']"
   ]
  },
  {
   "cell_type": "code",
   "execution_count": 38,
   "id": "ea32809c",
   "metadata": {},
   "outputs": [],
   "source": [
    "X_true = trainData.loc[:, trainData.columns != 'heartdisease::category|-1|1'].to_numpy()"
   ]
  },
  {
   "cell_type": "code",
   "execution_count": 39,
   "id": "15947291",
   "metadata": {},
   "outputs": [],
   "source": [
    "X = np.insert(X_true,0,1, axis = 1)"
   ]
  },
  {
   "cell_type": "code",
   "execution_count": 40,
   "id": "3f2a3535",
   "metadata": {},
   "outputs": [
    {
     "name": "stdout",
     "output_type": "stream",
     "text": [
      "14\n"
     ]
    }
   ],
   "source": [
    "print(X.shape[1])"
   ]
  },
  {
   "cell_type": "code",
   "execution_count": 41,
   "id": "69f9b3ff",
   "metadata": {},
   "outputs": [],
   "source": [
    "w = np.zeros(X.shape[1])\n",
    "size = X.shape[0]\n"
   ]
  },
  {
   "cell_type": "code",
   "execution_count": 42,
   "id": "61889a71",
   "metadata": {},
   "outputs": [],
   "source": [
    "def CrossEntropyError(X, Y, w, size):\n",
    "    B = np.dot(X, w[:, None]).reshape(-1)\n",
    "    B = np.einsum (\"i, i->i\", -Y, B)\n",
    "    B = np.exp(B) + 1\n",
    "    error = np.sum( np.log(B), axis = 0) / size\n",
    "    return error"
   ]
  },
  {
   "cell_type": "code",
   "execution_count": 43,
   "id": "db004767",
   "metadata": {},
   "outputs": [],
   "source": [
    "def GradientDescent(X, Y, w, size, A):\n",
    "    B = np.dot(X, w[:, None]).reshape(-1)\n",
    "    B = np.einsum (\"i, i->i\", Y, B)\n",
    "    B = np.exp(B) + 1\n",
    "    C = np.tile(B.transpose(), (14, 1)).transpose()\n",
    "    gt = (-1/ size) * np.sum( np.divide(A, C), axis = 0)\n",
    "    return gt"
   ]
  },
  {
   "cell_type": "code",
   "execution_count": 44,
   "id": "30845224",
   "metadata": {},
   "outputs": [],
   "source": [
    "def ModelTraining(maxIter, n, X, Y, w, size):\n",
    "    A = np.einsum(\"i,ij->ij\", Y,X)\n",
    "    for i in range(1,maxIter):\n",
    "        gt = GradientDescent(X, Y, w, size, A)\n",
    "        a = np.max(gt)\n",
    "        b = np.min(gt)\n",
    "        if a < 0.00001 and b >-0.00001:\n",
    "            print(i)\n",
    "            break\n",
    "        w = w - n*gt\n",
    "    return w"
   ]
  },
  {
   "cell_type": "code",
   "execution_count": 45,
   "id": "89213396",
   "metadata": {},
   "outputs": [
    {
     "name": "stdout",
     "output_type": "stream",
     "text": [
      "CPU times: user 3min 10s, sys: 543 ms, total: 3min 10s\n",
      "Wall time: 3min 10s\n"
     ]
    }
   ],
   "source": [
    "%%time \n",
    "w = ModelTraining(10000000, 0.001, X, Y, w, size)\n"
   ]
  },
  {
   "cell_type": "code",
   "execution_count": null,
   "id": "6c01f739",
   "metadata": {},
   "outputs": [],
   "source": []
  },
  {
   "cell_type": "code",
   "execution_count": 14,
   "id": "986389c3",
   "metadata": {},
   "outputs": [],
   "source": [
    "def printFormat(X, Y, w, size):\n",
    "    print( \"Cross Entropy Error is \" + str(CrossEntropyError(X, Y, w, size)))\n",
    "    print( \"Weight vector is \" + str(w))\n",
    "    print(\"Training Accuracy is \" + str(predict(X,Y)) )"
   ]
  },
  {
   "cell_type": "code",
   "execution_count": 15,
   "id": "bfeb02f3",
   "metadata": {},
   "outputs": [],
   "source": [
    "def predict(X, Y):\n",
    "    \n",
    "    B = 1/ (1 + np.exp( -1 * np.dot(X, w[:, None]).reshape(-1)))\n",
    "    B[B >= 0.5] = 1\n",
    "    B[B < 0.5] = -1\n",
    "    return np.count_nonzero(np.equal(B,Y))/size"
   ]
  },
  {
   "cell_type": "code",
   "execution_count": 16,
   "id": "582a2b56",
   "metadata": {},
   "outputs": [
    {
     "name": "stdout",
     "output_type": "stream",
     "text": [
      "Cross Entropy Error is 5.330597898899743\n",
      "Weight vector is [-0.165 -0.254  1.281  2.647  0.138 -0.054 -1.226  1.749 -0.288  1.576\n",
      "  2.645  0.647  5.5    2.553]\n",
      "Training Accuracy is 0.6776315789473685\n"
     ]
    }
   ],
   "source": [
    "printFormat(X, Y, w, size)"
   ]
  },
  {
   "cell_type": "code",
   "execution_count": null,
   "id": "d6e75184",
   "metadata": {},
   "outputs": [],
   "source": []
  },
  {
   "cell_type": "code",
   "execution_count": 17,
   "id": "0acf05e1",
   "metadata": {},
   "outputs": [],
   "source": [
    "import sklearn\n",
    "from sklearn.linear_model import LogisticRegression\n"
   ]
  },
  {
   "cell_type": "code",
   "execution_count": 18,
   "id": "65af7236",
   "metadata": {},
   "outputs": [],
   "source": [
    "\n",
    "model = LogisticRegression(max_iter = 10000)\n"
   ]
  },
  {
   "cell_type": "code",
   "execution_count": 19,
   "id": "1aabb6a0",
   "metadata": {},
   "outputs": [
    {
     "name": "stdout",
     "output_type": "stream",
     "text": [
      "CPU times: user 74.9 ms, sys: 2.83 ms, total: 77.7 ms\n",
      "Wall time: 75.9 ms\n"
     ]
    }
   ],
   "source": [
    "%%time\n",
    "predicted = model.fit(X,Y)"
   ]
  },
  {
   "cell_type": "code",
   "execution_count": 20,
   "id": "1aff0e43",
   "metadata": {},
   "outputs": [
    {
     "name": "stdout",
     "output_type": "stream",
     "text": [
      "Training Accuracy of Sklearn's implementation is 0.8223684210526315\n"
     ]
    }
   ],
   "source": [
    "P = predicted.predict(X)\n",
    "print(\"Training Accuracy of Sklearn's implementation is \" + str(np.count_nonzero(np.equal(P,Y))/size))"
   ]
  },
  {
   "cell_type": "code",
   "execution_count": 21,
   "id": "a1f5649a",
   "metadata": {},
   "outputs": [],
   "source": [
    "mean = np.mean(X_true, axis = 0)\n",
    "SD = np.std(X_true, axis = 0)\n",
    "X_scaled = np.divide((X_true-mean), SD)"
   ]
  },
  {
   "cell_type": "code",
   "execution_count": 22,
   "id": "d0e8de7f",
   "metadata": {},
   "outputs": [],
   "source": [
    "X_scaled = np.insert(X_scaled,0,1, axis = 1)\n",
    "w1 = np.zeros(X_scaled.shape[1])"
   ]
  },
  {
   "cell_type": "code",
   "execution_count": null,
   "id": "ce058108",
   "metadata": {},
   "outputs": [],
   "source": []
  },
  {
   "cell_type": "code",
   "execution_count": null,
   "id": "4b497c0e",
   "metadata": {},
   "outputs": [],
   "source": []
  },
  {
   "cell_type": "code",
   "execution_count": 23,
   "id": "aca3585c",
   "metadata": {},
   "outputs": [
    {
     "name": "stdout",
     "output_type": "stream",
     "text": [
      "[[ 1.     1.398  0.721 ...  0.7    1.49   1.133]\n",
      " [ 1.    -1.981  0.721 ...  2.361 -0.72  -0.929]\n",
      " [ 1.     0.159  0.721 ... -0.962 -0.72  -0.929]\n",
      " ...\n",
      " [ 1.     1.511  0.721 ...  0.7    1.49   1.133]\n",
      " [ 1.     0.272  0.721 ...  0.7    0.385  1.133]\n",
      " [ 1.     0.272 -1.387 ...  0.7    0.385 -0.929]]\n"
     ]
    }
   ],
   "source": [
    "print(X_scaled)"
   ]
  },
  {
   "cell_type": "code",
   "execution_count": 24,
   "id": "ac6b9a34",
   "metadata": {},
   "outputs": [
    {
     "name": "stdout",
     "output_type": "stream",
     "text": [
      "CPU times: user 215 ms, sys: 5.68 ms, total: 220 ms\n",
      "Wall time: 217 ms\n"
     ]
    }
   ],
   "source": [
    "%%time\n",
    "w1 = ModelTraining(10000, 0.0001, X_scaled, Y, w1, size)"
   ]
  },
  {
   "cell_type": "code",
   "execution_count": 25,
   "id": "b6a065af",
   "metadata": {},
   "outputs": [
    {
     "name": "stdout",
     "output_type": "stream",
     "text": [
      "[-0.165 -0.254  1.281  2.647  0.138 -0.054 -1.226  1.749 -0.288  1.576\n",
      "  2.645  0.647  5.5    2.553]\n"
     ]
    }
   ],
   "source": [
    "print(w)"
   ]
  },
  {
   "cell_type": "code",
   "execution_count": 26,
   "id": "d04d3c89",
   "metadata": {},
   "outputs": [
    {
     "name": "stdout",
     "output_type": "stream",
     "text": [
      "Cross Entropy Error is 0.5236887625783183\n",
      "Weight vector is [-0.058  0.067  0.109  0.142  0.052 -0.015 -0.006  0.053 -0.12   0.118\n",
      "  0.132  0.094  0.168  0.186]\n",
      "Training Accuracy is 0.8223684210526315\n"
     ]
    }
   ],
   "source": [
    "printFormat(X_scaled, Y, w1, size)"
   ]
  },
  {
   "cell_type": "code",
   "execution_count": 27,
   "id": "41325f9b",
   "metadata": {},
   "outputs": [],
   "source": [
    "Predicted = model.fit(X_scaled, Y)"
   ]
  },
  {
   "cell_type": "code",
   "execution_count": 28,
   "id": "e8214cd4",
   "metadata": {},
   "outputs": [
    {
     "name": "stdout",
     "output_type": "stream",
     "text": [
      "Training Accuracy of Sklearn's implementation for scaled data is 0.8157894736842105\n"
     ]
    }
   ],
   "source": [
    "\n",
    "P = predicted.predict(X_scaled)\n",
    "print(\"Training Accuracy of Sklearn's implementation for scaled data is \" + str(np.count_nonzero(np.equal(P,Y))/size))"
   ]
  },
  {
   "cell_type": "code",
   "execution_count": 29,
   "id": "0d4ddba8",
   "metadata": {},
   "outputs": [
    {
     "name": "stdout",
     "output_type": "stream",
     "text": [
      "[-0.165 -0.254  1.281  2.647  0.138 -0.054 -1.226  1.749 -0.288  1.576\n",
      "  2.645  0.647  5.5    2.553]\n"
     ]
    }
   ],
   "source": [
    "print(w)"
   ]
  },
  {
   "cell_type": "code",
   "execution_count": 30,
   "id": "9962d5da",
   "metadata": {},
   "outputs": [],
   "source": [
    "testData = pd.read_csv(\"1644871288_9775174_cleveland-test.csv\")"
   ]
  },
  {
   "cell_type": "code",
   "execution_count": 31,
   "id": "8e6d0c78",
   "metadata": {},
   "outputs": [],
   "source": [
    "Test = testData.to_numpy()"
   ]
  },
  {
   "cell_type": "code",
   "execution_count": 32,
   "id": "0f7f941f",
   "metadata": {},
   "outputs": [],
   "source": [
    "T = 1/ (1 + np.exp( -1 * np.dot(Test, w[1:, None]).reshape(-1)))\n",
    "T[T >= 0.5] = 1\n",
    "T[T < 0.5] = -1\n",
    "np.savetxt(\"out.csv\", T, delimiter=\",\", fmt='%d')"
   ]
  },
  {
   "cell_type": "code",
   "execution_count": null,
   "id": "ac176eb2",
   "metadata": {},
   "outputs": [],
   "source": []
  },
  {
   "cell_type": "code",
   "execution_count": null,
   "id": "c06af612",
   "metadata": {},
   "outputs": [],
   "source": []
  },
  {
   "cell_type": "code",
   "execution_count": null,
   "id": "86c41a0a",
   "metadata": {},
   "outputs": [],
   "source": []
  },
  {
   "cell_type": "code",
   "execution_count": null,
   "id": "4c52b613",
   "metadata": {},
   "outputs": [],
   "source": []
  },
  {
   "cell_type": "code",
   "execution_count": null,
   "id": "f8a8f2c9",
   "metadata": {},
   "outputs": [],
   "source": []
  }
 ],
 "metadata": {
  "kernelspec": {
   "display_name": "Python 3 (ipykernel)",
   "language": "python",
   "name": "python3"
  },
  "language_info": {
   "codemirror_mode": {
    "name": "ipython",
    "version": 3
   },
   "file_extension": ".py",
   "mimetype": "text/x-python",
   "name": "python",
   "nbconvert_exporter": "python",
   "pygments_lexer": "ipython3",
   "version": "3.9.10"
  }
 },
 "nbformat": 4,
 "nbformat_minor": 5
}
