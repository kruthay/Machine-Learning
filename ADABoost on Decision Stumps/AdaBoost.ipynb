{
 "cells": [
  {
   "cell_type": "code",
   "execution_count": 1,
   "id": "3cf58242",
   "metadata": {},
   "outputs": [],
   "source": [
    "import pandas as pd\n",
    "import numpy as np\n",
    "from random import sample\n",
    "from sklearn.tree import DecisionTreeClassifier\n",
    "import warnings\n",
    "warnings.filterwarnings(\"ignore\")"
   ]
  },
  {
   "cell_type": "code",
   "execution_count": 2,
   "id": "6f3655d8",
   "metadata": {},
   "outputs": [],
   "source": [
    "columns = ['Out'] + list(range(1,257))\n",
    "trainingDF = pd.read_csv(\"1646102559_507402_train35.txt\", names=columns)"
   ]
  },
  {
   "cell_type": "code",
   "execution_count": 3,
   "id": "0b5f7dd6",
   "metadata": {},
   "outputs": [],
   "source": [
    "samples = trainingDF.shape[0]\n",
    "labels = trainingDF.shape[1]"
   ]
  },
  {
   "cell_type": "code",
   "execution_count": 4,
   "id": "2b282d99",
   "metadata": {
    "scrolled": true
   },
   "outputs": [],
   "source": [
    "trainingDF[\"weights\"] = 1/samples"
   ]
  },
  {
   "cell_type": "code",
   "execution_count": 5,
   "id": "8ee17003",
   "metadata": {},
   "outputs": [],
   "source": [
    "Y = trainingDF['Out']"
   ]
  },
  {
   "cell_type": "code",
   "execution_count": null,
   "id": "0b485c14",
   "metadata": {},
   "outputs": [],
   "source": []
  },
  {
   "cell_type": "code",
   "execution_count": 6,
   "id": "c285a0c8",
   "metadata": {},
   "outputs": [],
   "source": [
    "def GetCountMatrix(value, A, Y):\n",
    "    c = [0, 0, 0, 0]\n",
    "    B = np.concatenate((A,Y), axis = None)\n",
    "    B = np.reshape(B, (2,1214)).T\n",
    "    c[0] = np.count_nonzero((B[:,0] >= value) &(B[:,1] == 5))\n",
    "    c[1] = np.count_nonzero((B[:,0] < value) &(B[:,1] == 5))\n",
    "    c[2] = np.count_nonzero((B[:,0] >= value) &(B[:,1] == 3))\n",
    "    c[3] = np.count_nonzero((B[:,0] < value) &(B[:,1] == 3))    \n",
    "        \n",
    "    return c"
   ]
  },
  {
   "cell_type": "code",
   "execution_count": 7,
   "id": "eb6db1dd",
   "metadata": {},
   "outputs": [],
   "source": [
    "def Gini(c):\n",
    "    try:\n",
    "        p = c[0]\n",
    "        q = c[0] + c[2]\n",
    "        p = p/q\n",
    "        giniN1 = (2 * p*( 1 - p) )        \n",
    "        \n",
    "        r = c[1]\n",
    "        s = c[1] + c[3]\n",
    "        r = r/s\n",
    "        giniN2 = (2 * r*( 1 - r) )        \n",
    "        \n",
    "    except ZeroDivisionError:\n",
    "        return 1\n",
    "    \n",
    "    gini = ((q) * giniN1) + ((s) * giniN2 )\n",
    "    \n",
    "    return gini / 1214"
   ]
  },
  {
   "cell_type": "code",
   "execution_count": 8,
   "id": "5eda6deb",
   "metadata": {},
   "outputs": [],
   "source": [
    "def GetGini(A, Y) :\n",
    "    g = []    \n",
    "    U = np.unique(A)\n",
    "    for i in range(0, U.shape[0]) :\n",
    "        c = GetCountMatrix(U[i], A, Y)\n",
    "        gini = Gini(c)\n",
    "        if gini == 1:\n",
    "            continue\n",
    "        g.append([i] + [gini])\n",
    "    if len(g) == 0:\n",
    "        return 1\n",
    "    g = np.array(g)\n",
    "    split = g[:,-1].argmin()\n",
    "    \n",
    "    it = int(g[split][0])\n",
    "    ming = g[split][1]\n",
    "    \n",
    "    i = list(A).index(U[it])\n",
    "    return [i, ming]"
   ]
  },
  {
   "cell_type": "code",
   "execution_count": 9,
   "id": "86479fb1",
   "metadata": {},
   "outputs": [],
   "source": [
    "def weakClassifier(A, Y):\n",
    "    G = []    \n",
    "    for i in range(1, 256):\n",
    "        giniIndex = GetGini(A[i], Y)\n",
    "        if giniIndex == 1:\n",
    "            continue\n",
    "        G.append([i] + giniIndex )\n",
    "    \n",
    "    A = np.array(A)\n",
    "    G = np.array(G)\n",
    "    Split = G[:,-1].argmin()\n",
    "    feature = int(G[Split][0])\n",
    "    row = int(G[Split][1])\n",
    "    value = A[row][feature]\n",
    "    c = GetCountMatrix(value, A[:,feature], Y)\n",
    "    if c[0] > c[2]:\n",
    "        left = 5\n",
    "    else:\n",
    "        left = 3\n",
    "    if c[1] > c[3]:\n",
    "        right = 5\n",
    "    else:\n",
    "        right = 3\n",
    "    return [feature, value, left, right]"
   ]
  },
  {
   "cell_type": "code",
   "execution_count": 10,
   "id": "19ae93dd",
   "metadata": {},
   "outputs": [],
   "source": [
    "def predict(D, C):\n",
    "    feature = C[0]\n",
    "    value = C[1]\n",
    "    left = C[2]\n",
    "    right = C[3]\n",
    "    Y = []\n",
    "    for i in D[feature]:\n",
    "        if i >= value:\n",
    "            Y.append(left)\n",
    "        else:\n",
    "            Y.append(right)\n",
    "    return Y"
   ]
  },
  {
   "cell_type": "code",
   "execution_count": 11,
   "id": "b1d1e606",
   "metadata": {},
   "outputs": [
    {
     "name": "stdout",
     "output_type": "stream",
     "text": [
      "CPU times: user 2.32 s, sys: 26 ms, total: 2.34 s\n",
      "Wall time: 2.35 s\n"
     ]
    }
   ],
   "source": [
    "%%time  \n",
    "C1 = weakClassifier(trainingDF, Y)\n"
   ]
  },
  {
   "cell_type": "code",
   "execution_count": 12,
   "id": "2477bb11",
   "metadata": {},
   "outputs": [
    {
     "name": "stdout",
     "output_type": "stream",
     "text": [
      "1214\n"
     ]
    }
   ],
   "source": [
    "YPred = predict(trainingDF, C1)\n",
    "print(len(Y))"
   ]
  },
  {
   "cell_type": "code",
   "execution_count": 13,
   "id": "a39945f7",
   "metadata": {},
   "outputs": [
    {
     "name": "stdout",
     "output_type": "stream",
     "text": [
      "0.8467874794069192\n"
     ]
    }
   ],
   "source": [
    "count = 0\n",
    "for i in range(0, len(YPred)):\n",
    "    if YPred[i] == trainingDF['Out'][i]:\n",
    "        count += 1\n",
    "print(count/ len(YPred))"
   ]
  },
  {
   "cell_type": "code",
   "execution_count": null,
   "id": "282c59e0",
   "metadata": {},
   "outputs": [],
   "source": []
  },
  {
   "cell_type": "markdown",
   "id": "c82cd014",
   "metadata": {},
   "source": [
    "Adaboost Implementation"
   ]
  },
  {
   "cell_type": "code",
   "execution_count": 14,
   "id": "7bad2ba7",
   "metadata": {},
   "outputs": [],
   "source": [
    "def updateWeights(D, alpha):\n",
    "    D['updatedWeights'] = 0\n",
    "    D.loc[D['Out'] == D['predicted'], 'updatedWeights'] = np.exp(-1 * alpha)\n",
    "    D.loc[D['Out'] != D['predicted'], 'updatedWeights'] = np.exp(alpha)\n",
    "    D['updatedWeights'] = D['updatedWeights']*D['weights']\n",
    "    D['weights'] = D['updatedWeights']/ D['updatedWeights'].sum()\n",
    "    return D"
   ]
  },
  {
   "cell_type": "code",
   "execution_count": 15,
   "id": "db33c7c5",
   "metadata": {},
   "outputs": [],
   "source": [
    "def Classifier(giniI, D, alpha):\n",
    "    \n",
    "    D['TestOut'] = predict(D.iloc[:,1:256], giniI[1])\n",
    "    D['TestOut'] = D['TestOut'].map({5: 5, 3: -3})\n",
    "    Total = alpha[1] * D['TestOut']\n",
    "    for i in range(2,len(giniI)):\n",
    "        D['TestOut'] = predict(D.iloc[:,1:256], giniI[i])\n",
    "        D['TestOut'] = D['TestOut'].map({5: 5, 3: -3})\n",
    "        Total += alpha[i] * D['TestOut']\n",
    "\n",
    "    YPred = np.sign(list(Total))\n",
    "    YPred = np.where(YPred >= 0, 5, YPred)\n",
    "    YPred = np.where(YPred < 0, 3, YPred)\n",
    "\n",
    "    return YPred"
   ]
  },
  {
   "cell_type": "code",
   "execution_count": 145,
   "id": "e5d15dc0",
   "metadata": {},
   "outputs": [],
   "source": [
    "def AdaBoost(D, k):\n",
    "    alpha = [0]\n",
    "    giniI = [0]\n",
    "    Error = []\n",
    "    for i in range(1, k):\n",
    "        D1 =  D.sample(samples, replace = True, weights = D['weights'])\n",
    "        gini = weakClassifier(D1.iloc[:,1:256], D1['Out'])\n",
    "        D['predicted'] = predict(D.iloc[:,1:256], gini)\n",
    "        D.loc[D['Out'] != D['predicted'], 'prediction'] = 1\n",
    "        D.loc[D['Out'] == D['predicted'], 'prediction'] = 0\n",
    "        E = (D['prediction'] * D['weights']).sum()\n",
    "        if i%25 == 0:\n",
    "            Error.append(E)\n",
    "        if E > 0.5:\n",
    "            D['weights'] = 1/samples\n",
    "        giniI.append(gini)\n",
    "        alpha.append(0.5*np.log((1-E)/E))\n",
    "        D = updateWeights(D, alpha[i] )\n",
    "    \n",
    "    return giniI, alpha, Error"
   ]
  },
  {
   "cell_type": "code",
   "execution_count": null,
   "id": "5c348ab9",
   "metadata": {},
   "outputs": [],
   "source": [
    "  "
   ]
  },
  {
   "cell_type": "code",
   "execution_count": 146,
   "id": "4e99ad03",
   "metadata": {},
   "outputs": [
    {
     "name": "stdout",
     "output_type": "stream",
     "text": [
      "CPU times: user 4min 3s, sys: 1.72 s, total: 4min 5s\n",
      "Wall time: 4min 6s\n"
     ]
    }
   ],
   "source": [
    "%%time  \n",
    "giniI, alpha, Error = AdaBoost(trainingDF, 200)\n"
   ]
  },
  {
   "cell_type": "code",
   "execution_count": 142,
   "id": "e09055dd",
   "metadata": {},
   "outputs": [],
   "source": [
    "YPred = Classifier(giniI,trainingDF, alpha)"
   ]
  },
  {
   "cell_type": "code",
   "execution_count": 143,
   "id": "51071b05",
   "metadata": {},
   "outputs": [],
   "source": [
    "def Accuracy(Ypred, Y):\n",
    "    count = 0\n",
    "    for i in range(0, Ypred.shape[0]):\n",
    "        if Ypred[i] == Y[i]:\n",
    "            count += 1\n",
    "    return count/ Ypred.shape[0]"
   ]
  },
  {
   "cell_type": "code",
   "execution_count": 144,
   "id": "f8acd285",
   "metadata": {},
   "outputs": [
    {
     "data": {
      "text/plain": [
       "0.8434925864909391"
      ]
     },
     "execution_count": 144,
     "metadata": {},
     "output_type": "execute_result"
    }
   ],
   "source": [
    "Accuracy(YPred, trainingDF['Out'])"
   ]
  },
  {
   "cell_type": "code",
   "execution_count": null,
   "id": "4ac1efdd",
   "metadata": {},
   "outputs": [],
   "source": []
  },
  {
   "cell_type": "code",
   "execution_count": null,
   "id": "b6097745",
   "metadata": {},
   "outputs": [],
   "source": []
  },
  {
   "cell_type": "code",
   "execution_count": 22,
   "id": "7af1e7ab",
   "metadata": {},
   "outputs": [],
   "source": [
    "testDF = pd.read_csv(\"1646102559_513849_test35-nolabels.txt\", names= list(range(1,257)))"
   ]
  },
  {
   "cell_type": "code",
   "execution_count": 23,
   "id": "d8d74928",
   "metadata": {},
   "outputs": [],
   "source": [
    "YTest = Classifier(giniI, testDF, alpha)\n"
   ]
  },
  {
   "cell_type": "code",
   "execution_count": 24,
   "id": "79ecedfc",
   "metadata": {},
   "outputs": [
    {
     "name": "stdout",
     "output_type": "stream",
     "text": [
      "326\n"
     ]
    }
   ],
   "source": [
    "print(YTest.shape[0])"
   ]
  },
  {
   "cell_type": "code",
   "execution_count": 25,
   "id": "842bc738",
   "metadata": {},
   "outputs": [],
   "source": []
  },
  {
   "cell_type": "code",
   "execution_count": 127,
   "id": "19cd03f6",
   "metadata": {},
   "outputs": [],
   "source": [
    "Ypred = []\n",
    "j= 0 \n",
    "Tpred = []\n",
    "TrainingError = []\n",
    "for i in range(2, 200, 25):\n",
    "    Ypred.append(Classifier(giniI[0:i], trainingDF, alpha[0:i]))\n",
    "    Tpred.append(Classifier(giniI[0:i], testDF, alpha[0:i]))\n",
    "    Yo = Ypred[j]    \n",
    "    j += 1\n",
    "    TrainingError.append(1 - Accuracy(Yo, Y))"
   ]
  },
  {
   "cell_type": "code",
   "execution_count": 128,
   "id": "5f1332da",
   "metadata": {},
   "outputs": [],
   "source": [
    "def testFiles(Tpred):\n",
    "    for i in range(0,len(Tpred)):\n",
    "        file = open(\"Out\"+ str(i)+ \".txt\", \"w\")\n",
    "        for j in Tpred[i]:\n",
    "            file.write(str(int(j)) + \"\\n\")\n",
    "        file.close()"
   ]
  },
  {
   "cell_type": "code",
   "execution_count": 129,
   "id": "43793216",
   "metadata": {},
   "outputs": [],
   "source": [
    "testFiles(Tpred)"
   ]
  },
  {
   "cell_type": "code",
   "execution_count": 130,
   "id": "d8c0e9c0",
   "metadata": {},
   "outputs": [],
   "source": [
    "classify = DecisionTreeClassifier()\n",
    "classify = classify.fit(trainingDF.iloc[:,1:257],Y)\n",
    "Yr = classify.predict(trainingDF.iloc[:,1:257])\n",
    "Ye = classify.predict(testDF.iloc[:,1:257])"
   ]
  },
  {
   "cell_type": "code",
   "execution_count": 131,
   "id": "8ad026d4",
   "metadata": {},
   "outputs": [
    {
     "data": {
      "text/plain": [
       "1.0"
      ]
     },
     "execution_count": 131,
     "metadata": {},
     "output_type": "execute_result"
    }
   ],
   "source": [
    "Accuracy(Yr,Y)"
   ]
  },
  {
   "cell_type": "code",
   "execution_count": 132,
   "id": "fb0b5168",
   "metadata": {},
   "outputs": [],
   "source": [
    "Ye = [Ye]\n",
    "testFiles(Ye)"
   ]
  },
  {
   "cell_type": "code",
   "execution_count": 159,
   "id": "2e520155",
   "metadata": {},
   "outputs": [
    {
     "data": {
      "image/png": "[encoded data removed]",
      "text/plain": [
       "<Figure size 432x288 with 1 Axes>"
      ]
     },
     "metadata": {
      "needs_background": "light"
     },
     "output_type": "display_data"
    }
   ],
   "source": [
    "import matplotlib.pyplot as plt\n",
    "from matplotlib.pyplot import figure\n",
    "\n",
    "\n",
    "from scipy.interpolate import make_interp_spline\n",
    "xpoints = np.array(TrainingError)\n",
    "ypoints = np.array(list(range(2, 200, 25)))\n",
    "x2points = np.array([0.5, 0.28, 0.27, 0.21, 0.21, 0.17, 0.16, 0.16])\n",
    "x3points = np.array([0.1]*8)\n",
    "x4points = np.array([0.471, 0.29, 0.36, 0.57, 0.31, 0.50, 0.19, 0.32])\n",
    "from scipy.ndimage.filters import gaussian_filter1d\n",
    "\n",
    "ysmoothed = gaussian_filter1d(ypoints, sigma=1)\n",
    "\n",
    "plt.plot(ysmoothed, xpoints )\n",
    "plt.show()"
   ]
  },
  {
   "cell_type": "code",
   "execution_count": 160,
   "id": "1d02916d",
   "metadata": {},
   "outputs": [
    {
     "data": {
      "image/png": "[encoded data removed]",
      "text/plain": [
       "<Figure size 800x560 with 1 Axes>"
      ]
     },
     "metadata": {
      "needs_background": "light"
     },
     "output_type": "display_data"
    }
   ],
   "source": [
    "\n",
    "figure(figsize=(10, 7), dpi=80)\n",
    "plt.plot(ypoints, xpoints, color='r', label='Train')\n",
    "plt.plot(ypoints, x2points, color='b', label='Test')\n",
    "plt.plot(ypoints, x3points, color='g', label='Sklearn-DecisionTree')\n",
    "plt.plot(ypoints, x4points, color='y', label='Weighted Error')\n",
    "\n",
    "\n",
    "\n",
    "\n",
    "\n",
    "plt.xlabel(\"Rounds\")\n",
    "plt.ylabel(\"Error\")\n",
    "plt.title(\"Graphs\")\n",
    "\n",
    "plt.legend()\n",
    "  \n",
    "plt.savefig('testplot.jpg')\n",
    "\n",
    "\n",
    "plt.show()\n",
    "\n",
    "\n"
   ]
  },
  {
   "cell_type": "code",
   "execution_count": null,
   "id": "a44e4339",
   "metadata": {},
   "outputs": [],
   "source": []
  },
  {
   "cell_type": "code",
   "execution_count": null,
   "id": "22e20489",
   "metadata": {},
   "outputs": [],
   "source": []
  }
 ],
 "metadata": {
  "kernelspec": {
   "display_name": "Python 3 (ipykernel)",
   "language": "python",
   "name": "python3"
  },
  "language_info": {
   "codemirror_mode": {
    "name": "ipython",
    "version": 3
   },
   "file_extension": ".py",
   "mimetype": "text/x-python",
   "name": "python",
   "nbconvert_exporter": "python",
   "pygments_lexer": "ipython3",
   "version": "3.9.12"
  }
 },
 "nbformat": 4,
 "nbformat_minor": 5
}
