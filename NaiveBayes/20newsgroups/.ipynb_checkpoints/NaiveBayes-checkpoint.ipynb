{
 "cells": [
  {
   "cell_type": "code",
   "execution_count": 1,
   "id": "b510fdde",
   "metadata": {},
   "outputs": [],
   "source": [
    "import numpy as np\n",
    "from scipy.sparse import coo_array"
   ]
  },
  {
   "cell_type": "code",
   "execution_count": 2,
   "id": "14ba5b1d",
   "metadata": {},
   "outputs": [],
   "source": [
    "XData = np.loadtxt(\"train.data\", delimiter=\" \")"
   ]
  },
  {
   "cell_type": "code",
   "execution_count": 3,
   "id": "8ff63e21",
   "metadata": {},
   "outputs": [],
   "source": [
    "MaxTrainValues = XData.max(axis=0)\n",
    "TrainDocuments = int(MaxTrainValues[0])\n",
    "TrainWords = int(MaxTrainValues[1])"
   ]
  },
  {
   "cell_type": "code",
   "execution_count": 4,
   "id": "b4645230",
   "metadata": {},
   "outputs": [],
   "source": [
    "XTData = np.loadtxt('test.data', delimiter=\" \")"
   ]
  },
  {
   "cell_type": "code",
   "execution_count": 5,
   "id": "25b842b8",
   "metadata": {},
   "outputs": [],
   "source": [
    "MaxTestValues = XTData.max(axis=0)\n",
    "TestDocuments = int(MaxTestValues[0])\n",
    "TestWords = int(MaxTestValues[1])"
   ]
  },
  {
   "cell_type": "code",
   "execution_count": 6,
   "id": "9e1a92dd",
   "metadata": {},
   "outputs": [],
   "source": [
    "Words = max(TrainWords, TestWords)"
   ]
  },
  {
   "cell_type": "code",
   "execution_count": 7,
   "id": "820b45e5",
   "metadata": {},
   "outputs": [],
   "source": [
    "X = coo_array((XData[:,2], (XData[:,0], XData[:,1])), shape=(TrainDocuments+1, Words+1)).toarray()"
   ]
  },
  {
   "cell_type": "code",
   "execution_count": 8,
   "id": "cff098f7",
   "metadata": {},
   "outputs": [
    {
     "data": {
      "text/plain": [
       "array([[0., 0., 0., ..., 0., 0., 0.],\n",
       "       [0., 4., 2., ..., 0., 0., 0.],\n",
       "       [0., 0., 0., ..., 0., 0., 0.],\n",
       "       ...,\n",
       "       [0., 0., 0., ..., 0., 0., 0.],\n",
       "       [0., 0., 0., ..., 0., 0., 0.],\n",
       "       [0., 0., 0., ..., 0., 0., 0.]])"
      ]
     },
     "execution_count": 8,
     "metadata": {},
     "output_type": "execute_result"
    }
   ],
   "source": [
    "X"
   ]
  },
  {
   "cell_type": "code",
   "execution_count": 9,
   "id": "bdadd78d",
   "metadata": {},
   "outputs": [],
   "source": [
    "X = X[1:,:]"
   ]
  },
  {
   "cell_type": "code",
   "execution_count": 10,
   "id": "2b4d1ac8",
   "metadata": {},
   "outputs": [
    {
     "data": {
      "text/plain": [
       "(11269, 61189)"
      ]
     },
     "execution_count": 10,
     "metadata": {},
     "output_type": "execute_result"
    }
   ],
   "source": [
    "X.shape"
   ]
  },
  {
   "cell_type": "code",
   "execution_count": 11,
   "id": "9c664249",
   "metadata": {},
   "outputs": [],
   "source": [
    "Y = np.loadtxt('train.label', delimiter=\" \")"
   ]
  },
  {
   "cell_type": "code",
   "execution_count": 12,
   "id": "47cdfa29",
   "metadata": {},
   "outputs": [
    {
     "data": {
      "text/plain": [
       "(11269,)"
      ]
     },
     "execution_count": 12,
     "metadata": {},
     "output_type": "execute_result"
    }
   ],
   "source": [
    "Y.shape"
   ]
  },
  {
   "cell_type": "code",
   "execution_count": 13,
   "id": "10096361",
   "metadata": {},
   "outputs": [],
   "source": [
    "X[:,0] = Y"
   ]
  },
  {
   "cell_type": "code",
   "execution_count": 14,
   "id": "7beee3b0",
   "metadata": {},
   "outputs": [
    {
     "data": {
      "text/plain": [
       "array([[ 1.,  4.,  2., ...,  0.,  0.,  0.],\n",
       "       [ 1.,  0.,  0., ...,  0.,  0.,  0.],\n",
       "       [ 1.,  0.,  0., ...,  0.,  0.,  0.],\n",
       "       ...,\n",
       "       [20.,  0.,  0., ...,  0.,  0.,  0.],\n",
       "       [20.,  0.,  0., ...,  0.,  0.,  0.],\n",
       "       [20.,  0.,  0., ...,  0.,  0.,  0.]])"
      ]
     },
     "execution_count": 14,
     "metadata": {},
     "output_type": "execute_result"
    }
   ],
   "source": [
    "X"
   ]
  },
  {
   "cell_type": "code",
   "execution_count": 15,
   "id": "e9bd551d",
   "metadata": {},
   "outputs": [],
   "source": [
    "Sum_array = np.sum(X[X[:,0]==1], axis = 0)\n",
    "for i in range(2,21):\n",
    "    a = np.sum(X[X[:,0]==i], axis = 0)\n",
    "    Sum_array = np.append(Sum_array, a, axis = 0)"
   ]
  },
  {
   "cell_type": "code",
   "execution_count": 16,
   "id": "36a5b56f",
   "metadata": {},
   "outputs": [],
   "source": [
    "Sum_array = Sum_array.reshape(20,Words+1)"
   ]
  },
  {
   "cell_type": "code",
   "execution_count": 17,
   "id": "4a0f8453",
   "metadata": {},
   "outputs": [],
   "source": [
    "Ck = Sum_array[:,0]\n",
    "Ck = Ck/(np.arange(Ck.shape[-1])+1)\n",
    "CategorybyWords = Sum_array[:,1:]"
   ]
  },
  {
   "cell_type": "code",
   "execution_count": 18,
   "id": "2e3dcc39",
   "metadata": {},
   "outputs": [],
   "source": [
    "PCk = Ck/TrainDocuments"
   ]
  },
  {
   "cell_type": "code",
   "execution_count": 19,
   "id": "dbd991ae",
   "metadata": {},
   "outputs": [
    {
     "data": {
      "text/plain": [
       "array([480., 581., 572., 587., 575., 592., 582., 592., 596., 594., 598.,\n",
       "       594., 591., 594., 593., 599., 545., 564., 464., 376.])"
      ]
     },
     "execution_count": 19,
     "metadata": {},
     "output_type": "execute_result"
    }
   ],
   "source": [
    "Ck"
   ]
  },
  {
   "cell_type": "code",
   "execution_count": 20,
   "id": "542ccfc9",
   "metadata": {},
   "outputs": [],
   "source": [
    "LogPCk = np.log(PCk)"
   ]
  },
  {
   "cell_type": "code",
   "execution_count": 21,
   "id": "9011dc6a",
   "metadata": {},
   "outputs": [
    {
     "data": {
      "text/plain": [
       "array([-3.15602477, -2.96506012, -2.98067188, -2.95478605, -2.97544083,\n",
       "       -2.94630424, -2.96334042, -2.94630424, -2.9395702 , -2.94293155,\n",
       "       -2.93622012, -2.94293155, -2.94799485, -2.94293155, -2.94461647,\n",
       "       -2.93454927, -3.02902508, -2.99475662, -3.18992632, -3.40022173])"
      ]
     },
     "execution_count": 21,
     "metadata": {},
     "output_type": "execute_result"
    }
   ],
   "source": [
    "LogPCk"
   ]
  },
  {
   "cell_type": "code",
   "execution_count": 22,
   "id": "f2be0c93",
   "metadata": {},
   "outputs": [],
   "source": [
    "LaplaceApplied = CategorybyWords + 1"
   ]
  },
  {
   "cell_type": "code",
   "execution_count": 23,
   "id": "d00a78fe",
   "metadata": {},
   "outputs": [],
   "source": [
    "Likelihood = (LaplaceApplied.T/LaplaceApplied.sum(axis=1)).T"
   ]
  },
  {
   "cell_type": "code",
   "execution_count": 24,
   "id": "bd3f06cd",
   "metadata": {},
   "outputs": [
    {
     "data": {
      "text/plain": [
       "array([[6.66666667e-05, 3.04761905e-04, 1.31428571e-03, ...,\n",
       "        4.76190476e-06, 4.76190476e-06, 4.76190476e-06],\n",
       "       [3.55589754e-04, 3.49760414e-04, 5.82934024e-06, ...,\n",
       "        5.82934024e-06, 5.82934024e-06, 5.82934024e-06],\n",
       "       [7.89707479e-05, 4.60662696e-04, 6.58089566e-06, ...,\n",
       "        6.58089566e-06, 6.58089566e-06, 6.58089566e-06],\n",
       "       ...,\n",
       "       [3.48108977e-05, 4.90517195e-04, 3.16462706e-06, ...,\n",
       "        3.16462706e-06, 3.16462706e-06, 3.16462706e-06],\n",
       "       [4.03854386e-06, 1.61541755e-04, 4.03854386e-06, ...,\n",
       "        4.03854386e-06, 4.03854386e-06, 4.03854386e-06],\n",
       "       [5.54680393e-06, 2.55152981e-04, 5.54680393e-05, ...,\n",
       "        5.54680393e-06, 5.54680393e-06, 5.54680393e-06]])"
      ]
     },
     "execution_count": 24,
     "metadata": {},
     "output_type": "execute_result"
    }
   ],
   "source": [
    "Likelihood"
   ]
  },
  {
   "cell_type": "code",
   "execution_count": 25,
   "id": "c47bc538",
   "metadata": {},
   "outputs": [],
   "source": [
    "LogLik = np.log(Likelihood)"
   ]
  },
  {
   "cell_type": "code",
   "execution_count": 26,
   "id": "127281a7",
   "metadata": {},
   "outputs": [
    {
     "data": {
      "text/plain": [
       "(20, 61188)"
      ]
     },
     "execution_count": 26,
     "metadata": {},
     "output_type": "execute_result"
    }
   ],
   "source": [
    "LogLik.shape"
   ]
  },
  {
   "cell_type": "code",
   "execution_count": 39,
   "id": "d0d94242",
   "metadata": {},
   "outputs": [
    {
     "data": {
      "text/plain": [
       "(11269, 61188)"
      ]
     },
     "execution_count": 39,
     "metadata": {},
     "output_type": "execute_result"
    }
   ],
   "source": [
    "\n",
    "XTrain = X[:,1:]\n",
    "XTrain.shape"
   ]
  },
  {
   "cell_type": "code",
   "execution_count": 28,
   "id": "31809060",
   "metadata": {},
   "outputs": [],
   "source": [
    "def Model(Data, Likelhood, PrCategory):\n",
    "    Model = np.matmul(Data, Likelhood.T) + PrCategory\n",
    "    return np.argmax(Model, axis =1)+1"
   ]
  },
  {
   "cell_type": "code",
   "execution_count": 29,
   "id": "ef0a6da4",
   "metadata": {},
   "outputs": [],
   "source": [
    "YPredicted = Model(XTrain, LogLik, LogPCk)"
   ]
  },
  {
   "cell_type": "code",
   "execution_count": 30,
   "id": "e4dfdea3",
   "metadata": {},
   "outputs": [],
   "source": [
    "TrainAccuracy = np.count_nonzero(np.equal(YPredicted,Y))/Y.shape[0]"
   ]
  },
  {
   "cell_type": "code",
   "execution_count": 31,
   "id": "c13fe980",
   "metadata": {},
   "outputs": [
    {
     "data": {
      "text/plain": [
       "0.941077291685154"
      ]
     },
     "execution_count": 31,
     "metadata": {},
     "output_type": "execute_result"
    }
   ],
   "source": [
    "TrainAccuracy"
   ]
  },
  {
   "cell_type": "markdown",
   "id": "45d5b546",
   "metadata": {},
   "source": [
    "Accuracy of Train data is 0.9410"
   ]
  },
  {
   "cell_type": "code",
   "execution_count": 32,
   "id": "c558a11c",
   "metadata": {},
   "outputs": [],
   "source": [
    "XT = coo_array((XTData[:,2], (XTData[:,0], XTData[:,1])), shape=(TestDocuments+1, Words+1)).toarray()"
   ]
  },
  {
   "cell_type": "code",
   "execution_count": 33,
   "id": "2815e10a",
   "metadata": {},
   "outputs": [],
   "source": [
    "XT = XT[1:,1:]"
   ]
  },
  {
   "cell_type": "code",
   "execution_count": 34,
   "id": "4c0b11a6",
   "metadata": {},
   "outputs": [],
   "source": [
    "YTestPre = Model(XT, LogLik, LogPCk)"
   ]
  },
  {
   "cell_type": "code",
   "execution_count": 35,
   "id": "d7c22e6f",
   "metadata": {},
   "outputs": [],
   "source": [
    "YTest = np.loadtxt('test.label', delimiter=\" \")"
   ]
  },
  {
   "cell_type": "code",
   "execution_count": 36,
   "id": "b1889b4a",
   "metadata": {},
   "outputs": [],
   "source": [
    "TestAccuracy = np.count_nonzero(np.equal(YTestPre,YTest))/YTest.shape[0]"
   ]
  },
  {
   "cell_type": "code",
   "execution_count": 37,
   "id": "8df6c63d",
   "metadata": {},
   "outputs": [
    {
     "data": {
      "text/plain": [
       "0.7810792804796802"
      ]
     },
     "execution_count": 37,
     "metadata": {},
     "output_type": "execute_result"
    }
   ],
   "source": [
    "TestAccuracy"
   ]
  },
  {
   "cell_type": "markdown",
   "id": "fab7c848",
   "metadata": {},
   "source": [
    "#Accuracy of Test data is 0.78"
   ]
  },
  {
   "cell_type": "code",
   "execution_count": 38,
   "id": "38f6899e",
   "metadata": {},
   "outputs": [],
   "source": [
    "np.savetxt('OutputNB.txt', YTestPre, fmt='%d', delimiter=',\\n')"
   ]
  }
 ],
 "metadata": {
  "kernelspec": {
   "display_name": "Python 3 (ipykernel)",
   "language": "python",
   "name": "python3"
  },
  "language_info": {
   "codemirror_mode": {
    "name": "ipython",
    "version": 3
   },
   "file_extension": ".py",
   "mimetype": "text/x-python",
   "name": "python",
   "nbconvert_exporter": "python",
   "pygments_lexer": "ipython3",
   "version": "3.9.10"
  }
 },
 "nbformat": 4,
 "nbformat_minor": 5
}
