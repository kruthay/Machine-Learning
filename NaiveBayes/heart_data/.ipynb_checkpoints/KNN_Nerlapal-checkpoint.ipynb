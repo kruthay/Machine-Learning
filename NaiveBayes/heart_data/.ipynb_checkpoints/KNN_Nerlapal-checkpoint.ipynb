{
 "cells": [
  {
   "cell_type": "code",
   "execution_count": 1,
   "id": "d1567ff5",
   "metadata": {},
   "outputs": [],
   "source": [
    "import pandas as pd"
   ]
  },
  {
   "cell_type": "code",
   "execution_count": 2,
   "id": "dc26e715",
   "metadata": {},
   "outputs": [],
   "source": [
    "import numpy as np"
   ]
  },
  {
   "cell_type": "code",
   "execution_count": 3,
   "id": "e8189f16",
   "metadata": {},
   "outputs": [],
   "source": [
    "import sklearn as sk"
   ]
  },
  {
   "cell_type": "code",
   "execution_count": 4,
   "id": "4d690588",
   "metadata": {},
   "outputs": [],
   "source": [
    "import statistics\n",
    "from statistics import mode"
   ]
  },
  {
   "cell_type": "code",
   "execution_count": 5,
   "id": "7ac45760",
   "metadata": {},
   "outputs": [],
   "source": [
    "from sklearn.neighbors import KNeighborsClassifier as KNN\n",
    "from sklearn.model_selection import LeaveOneOut"
   ]
  },
  {
   "cell_type": "code",
   "execution_count": 6,
   "id": "92c2f5f2",
   "metadata": {},
   "outputs": [],
   "source": [
    "XDataFrame = pd.read_csv('heart_trainSet.txt', names = range(1,14))"
   ]
  },
  {
   "cell_type": "code",
   "execution_count": 7,
   "id": "3fdaf8c8",
   "metadata": {},
   "outputs": [],
   "source": [
    "XTrain = XDataFrame.to_numpy()"
   ]
  },
  {
   "cell_type": "code",
   "execution_count": 8,
   "id": "2a1f2fd0",
   "metadata": {},
   "outputs": [
    {
     "data": {
      "text/plain": [
       "array([[ 0.041667,  1.      ,  1.      , ...,  0.      ,  0.33333 ,\n",
       "        -1.      ],\n",
       "       [ 0.20833 ,  1.      ,  1.      , ..., -1.      , -0.33333 ,\n",
       "         1.      ],\n",
       "       [ 0.58333 ,  1.      ,  1.      , ...,  0.      ,  0.33333 ,\n",
       "        -1.      ],\n",
       "       ...,\n",
       "       [ 0.70833 ,  1.      ,  1.      , ...,  0.      ,  1.      ,\n",
       "        -1.      ],\n",
       "       [ 0.41667 , -1.      ,  1.      , ...,  0.      ,  0.33333 ,\n",
       "        -1.      ],\n",
       "       [ 0.29167 ,  1.      ,  1.      , ...,  0.      ,  0.33333 ,\n",
       "         1.      ]])"
      ]
     },
     "execution_count": 8,
     "metadata": {},
     "output_type": "execute_result"
    }
   ],
   "source": [
    "XTrain"
   ]
  },
  {
   "cell_type": "code",
   "execution_count": 9,
   "id": "39749fc1",
   "metadata": {},
   "outputs": [],
   "source": [
    "YDataFrame = pd.read_csv('heart_trainLabels.txt', names = ['y'])"
   ]
  },
  {
   "cell_type": "code",
   "execution_count": 10,
   "id": "9aaa7056",
   "metadata": {},
   "outputs": [],
   "source": [
    "YTrain = YDataFrame.to_numpy()"
   ]
  },
  {
   "cell_type": "code",
   "execution_count": 11,
   "id": "f509d4d5",
   "metadata": {},
   "outputs": [
    {
     "data": {
      "text/plain": [
       "(243, 1)"
      ]
     },
     "execution_count": 11,
     "metadata": {},
     "output_type": "execute_result"
    }
   ],
   "source": [
    "YTrain.shape"
   ]
  },
  {
   "cell_type": "code",
   "execution_count": 12,
   "id": "e29bb9e2",
   "metadata": {},
   "outputs": [
    {
     "data": {
      "text/plain": [
       "(243, 13)"
      ]
     },
     "execution_count": 12,
     "metadata": {},
     "output_type": "execute_result"
    }
   ],
   "source": [
    "XTrain.shape"
   ]
  },
  {
   "cell_type": "code",
   "execution_count": 13,
   "id": "d1f40843",
   "metadata": {},
   "outputs": [],
   "source": [
    "Train = np.concatenate((YTrain, XTrain), axis = 1)"
   ]
  },
  {
   "cell_type": "code",
   "execution_count": 14,
   "id": "d1d2f95a",
   "metadata": {},
   "outputs": [
    {
     "data": {
      "text/plain": [
       "(243, 14)"
      ]
     },
     "execution_count": 14,
     "metadata": {},
     "output_type": "execute_result"
    }
   ],
   "source": [
    "Train.shape"
   ]
  },
  {
   "cell_type": "code",
   "execution_count": 15,
   "id": "b927a66f",
   "metadata": {},
   "outputs": [
    {
     "data": {
      "text/plain": [
       "array([ 0.20833,  1.     ,  1.     , -0.88679, -0.50685, -1.     ,\n",
       "       -1.     ,  0.29771, -1.     , -0.96774, -1.     , -0.33333,\n",
       "        1.     ])"
      ]
     },
     "execution_count": 15,
     "metadata": {},
     "output_type": "execute_result"
    }
   ],
   "source": [
    "Train[1][1:]"
   ]
  },
  {
   "cell_type": "code",
   "execution_count": 16,
   "id": "114a13e6",
   "metadata": {},
   "outputs": [
    {
     "data": {
      "text/plain": [
       "array([ 0.20833,  1.     ,  1.     , -0.88679, -0.50685, -1.     ,\n",
       "       -1.     ,  0.29771, -1.     , -0.96774, -1.     , -0.33333,\n",
       "        1.     ])"
      ]
     },
     "execution_count": 16,
     "metadata": {},
     "output_type": "execute_result"
    }
   ],
   "source": [
    "XTrain[1]"
   ]
  },
  {
   "cell_type": "code",
   "execution_count": 17,
   "id": "cbf32c4f",
   "metadata": {},
   "outputs": [],
   "source": [
    "def L2Distance(d1, d2):\n",
    "    distance = 0\n",
    "    for a,b in zip(d1,d2):\n",
    "        distance += (a-b)**2\n",
    "    return distance**(1/2)"
   ]
  },
  {
   "cell_type": "code",
   "execution_count": 18,
   "id": "0de7122f",
   "metadata": {},
   "outputs": [],
   "source": [
    "def get_labels(Train, Test,  k):\n",
    "    distances = {}\n",
    "    for item in Train:\n",
    "        dist = L2Distance(Test[1:], item[1:])\n",
    "        distances[dist] = item\n",
    "    RankedList = sorted(distances.items())\n",
    "    neighbourLabels = [ RankedList[i][1][0] for i in range(k)]\n",
    "    return mode(neighbourLabels)"
   ]
  },
  {
   "cell_type": "code",
   "execution_count": 19,
   "id": "0c6a5fe9",
   "metadata": {},
   "outputs": [],
   "source": [
    "def KNNClass(Train, Test, k):\n",
    "    YL = []\n",
    "    for i in range(Test.shape[0]):\n",
    "        YL.append(get_labels(Train, Test[i], k))\n",
    "    return YL"
   ]
  },
  {
   "cell_type": "code",
   "execution_count": null,
   "id": "06a51bbd",
   "metadata": {},
   "outputs": [],
   "source": []
  },
  {
   "cell_type": "code",
   "execution_count": null,
   "id": "0324d443",
   "metadata": {},
   "outputs": [],
   "source": []
  },
  {
   "cell_type": "code",
   "execution_count": 20,
   "id": "ceb51663",
   "metadata": {},
   "outputs": [],
   "source": [
    "avg = []\n",
    "for i in range(1,11):\n",
    "    score = 0\n",
    "    for j in range(0, Train.shape[0]):\n",
    "        Testrow = Train[j]\n",
    "        Trainrows = np.delete(Train, j , 0)\n",
    "        YPred = get_labels(Trainrows, Testrow, i )\n",
    "        if YPred == Testrow[0]:\n",
    "            score += 1\n",
    "    avg.append(score/Train.shape[0])"
   ]
  },
  {
   "cell_type": "code",
   "execution_count": 21,
   "id": "a2721301",
   "metadata": {},
   "outputs": [
    {
     "data": {
      "text/plain": [
       "[0.7736625514403292,\n",
       " 0.7736625514403292,\n",
       " 0.8271604938271605,\n",
       " 0.8148148148148148,\n",
       " 0.8189300411522634,\n",
       " 0.8148148148148148,\n",
       " 0.831275720164609,\n",
       " 0.8189300411522634,\n",
       " 0.8189300411522634,\n",
       " 0.8189300411522634]"
      ]
     },
     "execution_count": 21,
     "metadata": {},
     "output_type": "execute_result"
    }
   ],
   "source": [
    "avg"
   ]
  },
  {
   "cell_type": "code",
   "execution_count": 22,
   "id": "7482a008",
   "metadata": {},
   "outputs": [],
   "source": [
    "XTestDataFrame = pd.read_csv('heart_testSet.txt', names = range(1,14))"
   ]
  },
  {
   "cell_type": "code",
   "execution_count": 23,
   "id": "51b4b7ee",
   "metadata": {},
   "outputs": [],
   "source": [
    "XTest = XTestDataFrame.to_numpy()"
   ]
  },
  {
   "cell_type": "code",
   "execution_count": 24,
   "id": "a71b3e91",
   "metadata": {},
   "outputs": [
    {
     "data": {
      "text/plain": [
       "(27, 13)"
      ]
     },
     "execution_count": 24,
     "metadata": {},
     "output_type": "execute_result"
    }
   ],
   "source": [
    "XTest.shape"
   ]
  },
  {
   "cell_type": "code",
   "execution_count": 28,
   "id": "4f83c458",
   "metadata": {},
   "outputs": [],
   "source": [
    "ones = np.ones((XTest.shape[0],1)) #3 is a number of rows in your array.   \n",
    "XTest = np.concatenate((ones,XTest), axis = 1)"
   ]
  },
  {
   "cell_type": "code",
   "execution_count": 30,
   "id": "f55f7597",
   "metadata": {},
   "outputs": [
    {
     "data": {
      "text/plain": [
       "(27, 14)"
      ]
     },
     "execution_count": 30,
     "metadata": {},
     "output_type": "execute_result"
    }
   ],
   "source": [
    "XTest.shape"
   ]
  },
  {
   "cell_type": "code",
   "execution_count": 32,
   "id": "64db5e33",
   "metadata": {},
   "outputs": [],
   "source": [
    "Ytest = KNNClass(Train, XTest, 6)"
   ]
  },
  {
   "cell_type": "code",
   "execution_count": 33,
   "id": "20f566d6",
   "metadata": {},
   "outputs": [
    {
     "data": {
      "text/plain": [
       "[-1.0,\n",
       " -1.0,\n",
       " 1.0,\n",
       " -1.0,\n",
       " 1.0,\n",
       " -1.0,\n",
       " -1.0,\n",
       " 1.0,\n",
       " -1.0,\n",
       " 1.0,\n",
       " 1.0,\n",
       " 1.0,\n",
       " -1.0,\n",
       " -1.0,\n",
       " -1.0,\n",
       " 1.0,\n",
       " 1.0,\n",
       " -1.0,\n",
       " -1.0,\n",
       " -1.0,\n",
       " 1.0,\n",
       " 1.0,\n",
       " 1.0,\n",
       " 1.0,\n",
       " -1.0,\n",
       " -1.0,\n",
       " 1.0]"
      ]
     },
     "execution_count": 33,
     "metadata": {},
     "output_type": "execute_result"
    }
   ],
   "source": [
    "Ytest"
   ]
  },
  {
   "cell_type": "code",
   "execution_count": 42,
   "id": "ce4a6441",
   "metadata": {},
   "outputs": [
    {
     "data": {
      "text/plain": [
       "array([[0.8, 0.2],\n",
       "       [1. , 0. ],\n",
       "       [0. , 1. ],\n",
       "       [0.6, 0.4],\n",
       "       [0.2, 0.8],\n",
       "       [1. , 0. ],\n",
       "       [1. , 0. ],\n",
       "       [0.2, 0.8],\n",
       "       [1. , 0. ],\n",
       "       [0. , 1. ],\n",
       "       [0. , 1. ],\n",
       "       [0.4, 0.6],\n",
       "       [0.8, 0.2],\n",
       "       [1. , 0. ],\n",
       "       [0.8, 0.2],\n",
       "       [0. , 1. ],\n",
       "       [0. , 1. ],\n",
       "       [0.8, 0.2],\n",
       "       [0.4, 0.6],\n",
       "       [1. , 0. ],\n",
       "       [0.2, 0.8],\n",
       "       [0. , 1. ],\n",
       "       [0. , 1. ],\n",
       "       [0.4, 0.6],\n",
       "       [1. , 0. ],\n",
       "       [1. , 0. ],\n",
       "       [0.4, 0.6]])"
      ]
     },
     "execution_count": 42,
     "metadata": {},
     "output_type": "execute_result"
    }
   ],
   "source": [
    "YpredProba"
   ]
  },
  {
   "cell_type": "code",
   "execution_count": null,
   "id": "fe9ece20",
   "metadata": {},
   "outputs": [],
   "source": []
  }
 ],
 "metadata": {
  "kernelspec": {
   "display_name": "Python 3 (ipykernel)",
   "language": "python",
   "name": "python3"
  },
  "language_info": {
   "codemirror_mode": {
    "name": "ipython",
    "version": 3
   },
   "file_extension": ".py",
   "mimetype": "text/x-python",
   "name": "python",
   "nbconvert_exporter": "python",
   "pygments_lexer": "ipython3",
   "version": "3.9.10"
  }
 },
 "nbformat": 4,
 "nbformat_minor": 5
}
