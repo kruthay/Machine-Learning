{
 "cells": [
  {
   "cell_type": "code",
   "execution_count": 2,
   "id": "d1567ff5",
   "metadata": {},
   "outputs": [],
   "source": [
    "import numpy as np"
   ]
  },
  {
   "cell_type": "code",
   "execution_count": 3,
   "id": "19ccbf5d",
   "metadata": {},
   "outputs": [],
   "source": [
    "X = np.loadtxt(\"heart_trainSet.txt\", delimiter=\",\")\n",
    "Y = np.loadtxt('heart_trainLabels.txt', delimiter=\",\")"
   ]
  },
  {
   "cell_type": "code",
   "execution_count": 4,
   "id": "9aaa7056",
   "metadata": {},
   "outputs": [
    {
     "data": {
      "text/plain": [
       "array([[ 0.041667,  1.      ,  1.      , ...,  0.      ,  0.33333 ,\n",
       "        -1.      ],\n",
       "       [ 0.20833 ,  1.      ,  1.      , ..., -1.      , -0.33333 ,\n",
       "         1.      ],\n",
       "       [ 0.58333 ,  1.      ,  1.      , ...,  0.      ,  0.33333 ,\n",
       "        -1.      ],\n",
       "       ...,\n",
       "       [ 0.70833 ,  1.      ,  1.      , ...,  0.      ,  1.      ,\n",
       "        -1.      ],\n",
       "       [ 0.41667 , -1.      ,  1.      , ...,  0.      ,  0.33333 ,\n",
       "        -1.      ],\n",
       "       [ 0.29167 ,  1.      ,  1.      , ...,  0.      ,  0.33333 ,\n",
       "         1.      ]])"
      ]
     },
     "execution_count": 4,
     "metadata": {},
     "output_type": "execute_result"
    }
   ],
   "source": [
    "X"
   ]
  },
  {
   "cell_type": "code",
   "execution_count": 4,
   "id": "0de7122f",
   "metadata": {},
   "outputs": [],
   "source": [
    "def KNN(X, Y, XT, neighbours = 4):\n",
    "    distances = []\n",
    "    n = X.shape[0]\n",
    "    for i in range(n):\n",
    "        distance = np.linalg.norm(X[i] - XT)\n",
    "        distances.append([distance, X[i], Y[i]])\n",
    "    DistanceNeighbours = sorted(distances)\n",
    "    DistanceNeighbours = DistanceNeighbours[:neighbours]\n",
    "    labelSum = sum([i[2] for i in DistanceNeighbours]) #i is each neighbour, i[2] is it's label value\n",
    "    if labelSum >= 0:\n",
    "        return 1\n",
    "    else:\n",
    "        return -1"
   ]
  },
  {
   "cell_type": "markdown",
   "id": "0d2b9dff",
   "metadata": {},
   "source": [
    "LeaveOneOutCross"
   ]
  },
  {
   "cell_type": "code",
   "execution_count": 5,
   "id": "ceb51663",
   "metadata": {},
   "outputs": [],
   "source": [
    "scores = []\n",
    "for neighbour in range(1,11):\n",
    "    PredictedLabels = []\n",
    "    n = X.shape[0]\n",
    "    for row in range(0, n):\n",
    "        LeftOne = X[row]\n",
    "        RemainingDataX = np.delete(X, row , 0)\n",
    "        RemainingDataY = np.delete(Y, row , 0)\n",
    "        PredictedLabels.append(KNN(RemainingDataX, RemainingDataY, LeftOne, neighbour))\n",
    "    scores.append(np.count_nonzero(np.equal(Y,PredictedLabels))/n)"
   ]
  },
  {
   "cell_type": "code",
   "execution_count": 6,
   "id": "a2721301",
   "metadata": {},
   "outputs": [
    {
     "data": {
      "text/plain": [
       "[0.7736625514403292,\n",
       " 0.7860082304526749,\n",
       " 0.8271604938271605,\n",
       " 0.823045267489712,\n",
       " 0.8189300411522634,\n",
       " 0.823045267489712,\n",
       " 0.831275720164609,\n",
       " 0.831275720164609,\n",
       " 0.8189300411522634,\n",
       " 0.823045267489712]"
      ]
     },
     "execution_count": 6,
     "metadata": {},
     "output_type": "execute_result"
    }
   ],
   "source": [
    "scores"
   ]
  },
  {
   "cell_type": "code",
   "execution_count": 7,
   "id": "fefa1392",
   "metadata": {},
   "outputs": [],
   "source": [
    "BestNeighbour = scores.index(max(scores)) + 1"
   ]
  },
  {
   "cell_type": "code",
   "execution_count": 8,
   "id": "7482a008",
   "metadata": {},
   "outputs": [],
   "source": [
    "XT = np.loadtxt('heart_testSet.txt', delimiter=\",\")"
   ]
  },
  {
   "cell_type": "code",
   "execution_count": 9,
   "id": "d7d9aee1",
   "metadata": {},
   "outputs": [],
   "source": [
    "YT = []\n",
    "for i in range(XT.shape[0]):\n",
    "    YT.append(KNN(X, Y, XT[i], BestNeighbour))"
   ]
  },
  {
   "cell_type": "code",
   "execution_count": 10,
   "id": "20f566d6",
   "metadata": {},
   "outputs": [
    {
     "data": {
      "text/plain": [
       "[-1,\n",
       " -1,\n",
       " 1,\n",
       " -1,\n",
       " 1,\n",
       " -1,\n",
       " -1,\n",
       " 1,\n",
       " -1,\n",
       " 1,\n",
       " 1,\n",
       " 1,\n",
       " -1,\n",
       " -1,\n",
       " -1,\n",
       " 1,\n",
       " 1,\n",
       " -1,\n",
       " 1,\n",
       " -1,\n",
       " 1,\n",
       " 1,\n",
       " 1,\n",
       " 1,\n",
       " -1,\n",
       " -1,\n",
       " 1]"
      ]
     },
     "execution_count": 10,
     "metadata": {},
     "output_type": "execute_result"
    }
   ],
   "source": [
    "YT"
   ]
  }
 ],
 "metadata": {
  "kernelspec": {
   "display_name": "Python 3 (ipykernel)",
   "language": "python",
   "name": "python3"
  },
  "language_info": {
   "codemirror_mode": {
    "name": "ipython",
    "version": 3
   },
   "file_extension": ".py",
   "mimetype": "text/x-python",
   "name": "python",
   "nbconvert_exporter": "python",
   "pygments_lexer": "ipython3",
   "version": "3.9.10"
  }
 },
 "nbformat": 4,
 "nbformat_minor": 5
}
